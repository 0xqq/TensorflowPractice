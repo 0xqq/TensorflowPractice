{
 "cells": [
  {
   "cell_type": "code",
   "execution_count": 1,
   "metadata": {
    "collapsed": true
   },
   "outputs": [],
   "source": [
    "import os\n",
    "import random\n",
    "import tensorflow as tf\n",
    "import pickle\n",
    "import numpy as np\n",
    "\n",
    "from nltk.tokenize import word_tokenize\n",
    "from nltk.stem import WordNetLemmatizer"
   ]
  },
  {
   "cell_type": "code",
   "execution_count": 2,
   "metadata": {
    "collapsed": true
   },
   "outputs": [],
   "source": [
    "f = open('lexcion.pickle', 'rb')\n",
    "lex = pickle.load(f)\n",
    "f.close()"
   ]
  },
  {
   "cell_type": "code",
   "execution_count": 3,
   "metadata": {
    "collapsed": true
   },
   "outputs": [],
   "source": [
    "def get_random_line(file, point):\n",
    "    file.seek(point)\n",
    "    file.readline()\n",
    "    return file.readline()"
   ]
  },
  {
   "cell_type": "code",
   "execution_count": 4,
   "metadata": {
    "collapsed": true
   },
   "outputs": [],
   "source": [
    "# 从文件中随机选择n条记录\n",
    "def get_n_random_line(file_name, n=150):\n",
    "    lines = []\n",
    "    file = open(file_name, encoding='latin-1')\n",
    "    total_bytes = os.stat(file_name).st_size\n",
    "    for i in range(n):\n",
    "        random_point = random.randint(0, total_bytes)\n",
    "        lines.append(get_random_line(file, random_point))\n",
    "    file.close()\n",
    "    return lines"
   ]
  },
  {
   "cell_type": "code",
   "execution_count": 5,
   "metadata": {
    "collapsed": true
   },
   "outputs": [],
   "source": [
    "def get_test_dataset(test_file):\n",
    "    with open(test_file, encoding='latin-1') as f:\n",
    "        test_x = []\n",
    "        test_y = []\n",
    "        lemmatizer = WordNetLemmatizer()\n",
    "        for line in f:\n",
    "            label = line.split(':%:%:%')[0]\n",
    "            tweet = line.split(':%:%:%')[1]\n",
    "            words = word_tokenize(tweet.lower())\n",
    "            words = [lemmatizer.lemmatize(word) for word in words]\n",
    "            features = np.zeros(len(lex))\n",
    "            for word in words:\n",
    "                if word in lex:\n",
    "                    features[lex.index(word)] = 1\n",
    "                    \n",
    "            test_x.append(list(features))\n",
    "            test_y.append(eval(label))\n",
    "    return test_x, test_y"
   ]
  },
  {
   "cell_type": "code",
   "execution_count": 6,
   "metadata": {
    "collapsed": true
   },
   "outputs": [],
   "source": [
    "test_x, test_y = get_test_dataset('testing.csv')"
   ]
  },
  {
   "cell_type": "code",
   "execution_count": 7,
   "metadata": {
    "collapsed": true
   },
   "outputs": [],
   "source": [
    "########################################################\n",
    "n_input_layer = len(lex) # 输入层\n",
    "\n",
    "n_layer_1 = 2000 # hide layer\n",
    "n_layer_2 = 2000 # hide layer(隐藏层)听着很神秘，其实就是除输入输出层外的中间层\n",
    "\n",
    "n_output_layer = 3 # 输出层"
   ]
  },
  {
   "cell_type": "code",
   "execution_count": 8,
   "metadata": {
    "collapsed": true
   },
   "outputs": [],
   "source": [
    "def neural_network(data):\n",
    "    # 定义第一层\"神经元\"的权重和biases\n",
    "    layer_1_w_b = {'w_':tf.Variable(tf.random_normal([n_input_layer, n_layer_1])), 'b_':tf.Variable(tf.random_normal([n_layer_1]))}\n",
    "    # 定义第二层\"神经元\"的权重和biases\n",
    "    layer_2_w_b = {'w_':tf.Variable(tf.random_normal([n_layer_1, n_layer_2])), 'b_':tf.Variable(tf.random_normal([n_layer_2]))}\n",
    "    # 定义输出层\"神经元\"的权重和biases\n",
    "    layer_output_w_b = {'w_':tf.Variable(tf.random_normal([n_layer_2, n_output_layer])), 'b_':tf.Variable(tf.random_normal([n_output_layer]))}\n",
    "    \n",
    "    # w.x+b\n",
    "    layer_1 = tf.add(tf.matmul(data, layer_1_w_b['w_']), layer_1_w_b['b_'])\n",
    "    layer_1 = tf.nn.relu(layer_1) # 激活函数\n",
    "    layer_2 = tf.add(tf.matmul(layer_1, layer_2_w_b['w_']), layer_2_w_b['b_'])\n",
    "    layer_2 = tf.nn.relu(layer_2) # 激活函数\n",
    "    layer_output = tf.add(tf.matmul(layer_2, layer_output_w_b['w_']), layer_output_w_b['b_'])\n",
    "    \n",
    "    return layer_output"
   ]
  },
  {
   "cell_type": "code",
   "execution_count": 9,
   "metadata": {
    "collapsed": true
   },
   "outputs": [],
   "source": [
    "X = tf.placeholder('float')\n",
    "Y = tf.placeholder('float')\n",
    "batch_size = 90"
   ]
  },
  {
   "cell_type": "code",
   "execution_count": 11,
   "metadata": {
    "collapsed": false
   },
   "outputs": [],
   "source": [
    "def train_neural_network(X, Y):\n",
    "    predict = neural_network(X)\n",
    "    cost_func = tf.reduce_mean(tf.nn.softmax_cross_entropy_with_logits(logits=predict, labels=Y))\n",
    "    optimizer = tf.train.AdamOptimizer().minimize(cost_func)\n",
    "    \n",
    "    with tf.Session() as session:\n",
    "        session.run(tf.global_variables_initializer())\n",
    "        \n",
    "        lemmatizer = WordNetLemmatizer()\n",
    "        saver = tf.train.Saver()\n",
    "        i = 0\n",
    "        pre_accuracy = 0\n",
    "        while True: # 一直训练\n",
    "            batch_x = []\n",
    "            batch_y = []\n",
    "            \n",
    "            #if model.ckpt文件存在：\n",
    "            #    saver.restore(session, 'model.ckpt') 恢复保存的session\n",
    "            \n",
    "            try:\n",
    "                lines = get_n_random_line('training.csv', batch_size)\n",
    "                for line in lines:\n",
    "                    label = line.split(':%:%:%')[0]\n",
    "                    tweet = line.split(':%:%:%')[1]\n",
    "                    words = word_tokenize(tweet.lower())\n",
    "                    words = [lemmatizer.lemmatize(word) for word in words]\n",
    "                    \n",
    "                    features = np.zeros(len(lex))\n",
    "                    for word in words:\n",
    "                        if word in lex:\n",
    "                            features[lex.index(word)] = 1 # 一个句子中某个词可能出现两次,可以用+=1，其实区别不大\n",
    "                        \n",
    "                        batch_x.append(list(features))\n",
    "                        batch_y.append(eval(label))\n",
    "                session.run([optimizer, cost_func], feed_dict={X:batch_x,Y:batch_y})\n",
    "            except Exception as e:\n",
    "                print(e)\n",
    "                \n",
    "            # 准确率\n",
    "            if i > 100:\n",
    "                correct = tf.equal(tf.argmax(predict, 1), tf.argmax(Y, 1))\n",
    "                accuracy = tf.reduce_mean(tf.cast(correct, 'float'))\n",
    "                accuracy = accuracy.eval({X:test_x, Y:test_y})\n",
    "                if accuracy > pre_accuracy:\n",
    "                    print('准确率：', accuracy)\n",
    "                    pre_accuracy = accuracy\n",
    "                    saver.save(session, 'model.ckpt')\n",
    "                i = 0\n",
    "            i += 1"
   ]
  },
  {
   "cell_type": "code",
   "execution_count": 12,
   "metadata": {
    "collapsed": false
   },
   "outputs": [
    {
     "name": "stdout",
     "output_type": "stream",
     "text": [
      "准确率： 0.463855\n",
      "准确率： 0.481928\n",
      "准确率： 0.504016\n",
      "准确率： 0.506024\n",
      "准确率： 0.512048\n",
      "准确率： 0.52008\n",
      "准确率： 0.524096\n",
      "准确率： 0.526104\n"
     ]
    },
    {
     "ename": "KeyboardInterrupt",
     "evalue": "",
     "output_type": "error",
     "traceback": [
      "\u001b[0;31m---------------------------------------------------------------------------\u001b[0m",
      "\u001b[0;31mKeyboardInterrupt\u001b[0m                         Traceback (most recent call last)",
      "\u001b[0;32m<ipython-input-12-21b066a21ca9>\u001b[0m in \u001b[0;36m<module>\u001b[0;34m()\u001b[0m\n\u001b[0;32m----> 1\u001b[0;31m \u001b[0mtrain_neural_network\u001b[0m\u001b[0;34m(\u001b[0m\u001b[0mX\u001b[0m\u001b[0;34m,\u001b[0m \u001b[0mY\u001b[0m\u001b[0;34m)\u001b[0m\u001b[0;34m\u001b[0m\u001b[0m\n\u001b[0m",
      "\u001b[0;32m<ipython-input-11-64dffef548cb>\u001b[0m in \u001b[0;36mtrain_neural_network\u001b[0;34m(X, Y)\u001b[0m\n\u001b[1;32m     28\u001b[0m                     \u001b[0mfeatures\u001b[0m \u001b[0;34m=\u001b[0m \u001b[0mnp\u001b[0m\u001b[0;34m.\u001b[0m\u001b[0mzeros\u001b[0m\u001b[0;34m(\u001b[0m\u001b[0mlen\u001b[0m\u001b[0;34m(\u001b[0m\u001b[0mlex\u001b[0m\u001b[0;34m)\u001b[0m\u001b[0;34m)\u001b[0m\u001b[0;34m\u001b[0m\u001b[0m\n\u001b[1;32m     29\u001b[0m                     \u001b[0;32mfor\u001b[0m \u001b[0mword\u001b[0m \u001b[0;32min\u001b[0m \u001b[0mwords\u001b[0m\u001b[0;34m:\u001b[0m\u001b[0;34m\u001b[0m\u001b[0m\n\u001b[0;32m---> 30\u001b[0;31m                         \u001b[0;32mif\u001b[0m \u001b[0mword\u001b[0m \u001b[0;32min\u001b[0m \u001b[0mlex\u001b[0m\u001b[0;34m:\u001b[0m\u001b[0;34m\u001b[0m\u001b[0m\n\u001b[0m\u001b[1;32m     31\u001b[0m                             \u001b[0mfeatures\u001b[0m\u001b[0;34m[\u001b[0m\u001b[0mlex\u001b[0m\u001b[0;34m.\u001b[0m\u001b[0mindex\u001b[0m\u001b[0;34m(\u001b[0m\u001b[0mword\u001b[0m\u001b[0;34m)\u001b[0m\u001b[0;34m]\u001b[0m \u001b[0;34m=\u001b[0m \u001b[0;36m1\u001b[0m \u001b[0;31m# 一个句子中某个词可能出现两次,可以用+=1，其实区别不大\u001b[0m\u001b[0;34m\u001b[0m\u001b[0m\n\u001b[1;32m     32\u001b[0m \u001b[0;34m\u001b[0m\u001b[0m\n",
      "\u001b[0;31mKeyboardInterrupt\u001b[0m: "
     ]
    }
   ],
   "source": [
    "train_neural_network(X, Y)"
   ]
  }
 ],
 "metadata": {
  "kernelspec": {
   "display_name": "Python 3",
   "language": "python",
   "name": "python3"
  },
  "language_info": {
   "codemirror_mode": {
    "name": "ipython",
    "version": 3
   },
   "file_extension": ".py",
   "mimetype": "text/x-python",
   "name": "python",
   "nbconvert_exporter": "python",
   "pygments_lexer": "ipython3",
   "version": "3.5.2"
  }
 },
 "nbformat": 4,
 "nbformat_minor": 2
}
