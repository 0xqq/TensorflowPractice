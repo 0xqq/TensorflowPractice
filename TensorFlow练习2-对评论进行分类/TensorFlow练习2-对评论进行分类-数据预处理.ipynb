{
 "cells": [
  {
   "cell_type": "markdown",
   "metadata": {},
   "source": [
    "使用的数据集：http://help.sentiment140.com/for-students/ (情绪分析)<br/>\n",
    "下载链接 http://cs.stanford.edu/people/alecmgo/trainingandtestdata.zip\n",
    "解压出数据文件<br/>\n",
    "training.1600000.processed.noemoticon.csv（238M）<br/>\n",
    "testdata.manual.2009.06.14.csv（74K）<br/>"
   ]
  },
  {
   "cell_type": "code",
   "execution_count": 1,
   "metadata": {
    "collapsed": false
   },
   "outputs": [],
   "source": [
    "import nltk\n",
    "from nltk.tokenize import word_tokenize\n",
    "from nltk.stem import WordNetLemmatizer"
   ]
  },
  {
   "cell_type": "code",
   "execution_count": 2,
   "metadata": {
    "collapsed": false
   },
   "outputs": [],
   "source": [
    "import pickle\n",
    "import numpy as np\n",
    "import pandas as pd\n",
    "from collections import OrderedDict"
   ]
  },
  {
   "cell_type": "code",
   "execution_count": 3,
   "metadata": {
    "collapsed": true
   },
   "outputs": [],
   "source": [
    "org_train_file = 'training.1600000.processed.noemoticon.csv'\n",
    "org_test_file = 'testdata.manual.2009.06.14.csv'"
   ]
  },
  {
   "cell_type": "code",
   "execution_count": 4,
   "metadata": {
    "collapsed": true
   },
   "outputs": [],
   "source": [
    "# 提取文件中有用的字段\n",
    "def usefull_filed(org_file, output_file):\n",
    "    output = open(output_file, 'w')\n",
    "    with open(org_file, buffering=10000,encoding='latin-1') as f:\n",
    "        try:\n",
    "            for line in f: # \"4\",\"2193601966\",\"Tue Jun 16 08:40:49 PDT 2009\",\"NO_QUERY\",\"AmandaMarie1028\",\"Just woke up. Having no school is the best feeling ever \"\n",
    "                line = line.replace('\"', '')\n",
    "                clf = line.split(',')[0] # 4\n",
    "                if clf == '0':\n",
    "                    clf = [0, 0, 1] # 消极评论\n",
    "                elif clf == '2':\n",
    "                    clf = [0, 1, 0] # 中性评论\n",
    "                elif clf == '4':\n",
    "                    clf = [1, 0, 0] # 积极评论\n",
    "                \n",
    "                tweet = line.split(',')[-1]\n",
    "                outputline = str(clf) + ':%:%:%:' + tweet # [0, 0, 1]:%:%:%: that's a bummer.  You shoulda got David Carr of Third Day to do it. ;D\n",
    "                output.write(outputline)\n",
    "        except Exception as e:\n",
    "            print(e)\n",
    "    output.close() # 处理完成，处理后文件大小127.5M"
   ]
  },
  {
   "cell_type": "code",
   "execution_count": 5,
   "metadata": {
    "collapsed": false
   },
   "outputs": [],
   "source": [
    "usefull_filed(org_train_file, 'training.csv')\n",
    "usefull_filed(org_test_file, 'testing.csv')"
   ]
  },
  {
   "cell_type": "code",
   "execution_count": 6,
   "metadata": {
    "collapsed": true
   },
   "outputs": [],
   "source": [
    "# 创建词汇表\n",
    "def create_lexicon(train_file):\n",
    "    lex = []\n",
    "    lemmatizer = WordNetLemmatizer()\n",
    "    with open(train_file, buffering=10000, encoding='latin-1') as f:\n",
    "        try:\n",
    "            count_word = {} # 统计单词出现次数\n",
    "            for line in f:\n",
    "                tweet = line.split(':%:%:%:')[1]\n",
    "                words = word_tokenize(line.lower())\n",
    "                for word in words:\n",
    "                    word = lemmatizer.lemmatize(word)\n",
    "                    if word not in count_word:\n",
    "                        count_word[word] = 1\n",
    "                    else:\n",
    "                        count_word[word] += 1\n",
    "            \n",
    "            count_word = OrderedDict(sorted(count_word.items(), key=lambda t:t[1]))\n",
    "            for word in count_word:\n",
    "                if count_word[word] < 100000 and count_word[word] > 100:  # 过滤掉一些词\n",
    "                    lex.append(word)\n",
    "        except Exception as e:\n",
    "            print(e)\n",
    "    return lex"
   ]
  },
  {
   "cell_type": "code",
   "execution_count": 7,
   "metadata": {
    "collapsed": false
   },
   "outputs": [],
   "source": [
    "lex = create_lexicon('training.csv')"
   ]
  },
  {
   "cell_type": "code",
   "execution_count": 8,
   "metadata": {
    "collapsed": true
   },
   "outputs": [],
   "source": [
    "with open('lexcion.pickle', 'wb') as f:\n",
    "    pickle.dump(lex, f)\n"
   ]
  },
  {
   "cell_type": "code",
   "execution_count": 9,
   "metadata": {
    "collapsed": false
   },
   "outputs": [
    {
     "data": {
      "text/plain": [
       "'\\n# 把字符串转为向量\\ndef string_to_vector(input_file, output_file, lex):\\n    output_f = open(output_file, \\'w\\')\\n    lemmatizer = WordNetLemmatizer()\\n    with open(input_file, buffering=10000, encoding=\\'latin-1\\') as f:\\n        for line in f:\\n            label = line.split(\\':%:%:%:\\')[0]\\n            tweet = line.split(\\':%:%:%:\\')[1]\\n            words = word_tokenize(tweet.lower())\\n            words = [lemmatizer.lemmatize(word) for word in words]\\n \\n            features = np.zeros(len(lex))\\n            for word in words:\\n                if word in lex:\\n                    features[lex.index(word)] = 1  # 一个句子中某个词可能出现两次,可以用+=1，其实区别不大\\n\\n            features = list(features)\\n            output_f.write(str(label) + \":\" + str(features) + \\'\\n\\')\\n    output_f.close()\\n \\n \\nf = open(\\'lexcion.pickle\\', \\'rb\\')\\nlex = pickle.load(f)\\nf.close()\\n \\n# lexcion词汇表大小112k,training.vec大约112k*1600000  170G  太大，只能边转边训练了\\n# string_to_vector(\\'training.csv\\', \\'training.vec\\', lex)\\n# string_to_vector(\\'tesing.csv\\', \\'tesing.vec\\', lex)\\n'"
      ]
     },
     "execution_count": 9,
     "metadata": {},
     "output_type": "execute_result"
    }
   ],
   "source": [
    "\"\"\"\n",
    "# 把字符串转为向量\n",
    "def string_to_vector(input_file, output_file, lex):\n",
    "    output_f = open(output_file, 'w')\n",
    "    lemmatizer = WordNetLemmatizer()\n",
    "    with open(input_file, buffering=10000, encoding='latin-1') as f:\n",
    "        for line in f:\n",
    "            label = line.split(':%:%:%:')[0]\n",
    "            tweet = line.split(':%:%:%:')[1]\n",
    "            words = word_tokenize(tweet.lower())\n",
    "            words = [lemmatizer.lemmatize(word) for word in words]\n",
    " \n",
    "            features = np.zeros(len(lex))\n",
    "            for word in words:\n",
    "                if word in lex:\n",
    "                    features[lex.index(word)] = 1  # 一个句子中某个词可能出现两次,可以用+=1，其实区别不大\n",
    "\n",
    "            features = list(features)\n",
    "            output_f.write(str(label) + \":\" + str(features) + '\\n')\n",
    "    output_f.close()\n",
    " \n",
    " \n",
    "f = open('lexcion.pickle', 'rb')\n",
    "lex = pickle.load(f)\n",
    "f.close()\n",
    " \n",
    "# lexcion词汇表大小112k,training.vec大约112k*1600000  170G  太大，只能边转边训练了\n",
    "# string_to_vector('training.csv', 'training.vec', lex)\n",
    "# string_to_vector('tesing.csv', 'tesing.vec', lex)\n",
    "\"\"\""
   ]
  }
 ],
 "metadata": {
  "kernelspec": {
   "display_name": "Python 3",
   "language": "python",
   "name": "python3"
  },
  "language_info": {
   "codemirror_mode": {
    "name": "ipython",
    "version": 3
   },
   "file_extension": ".py",
   "mimetype": "text/x-python",
   "name": "python",
   "nbconvert_exporter": "python",
   "pygments_lexer": "ipython3",
   "version": "3.5.2"
  }
 },
 "nbformat": 4,
 "nbformat_minor": 2
}
