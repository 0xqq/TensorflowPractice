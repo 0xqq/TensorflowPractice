{
 "cells": [
  {
   "cell_type": "code",
   "execution_count": 1,
   "metadata": {
    "collapsed": true
   },
   "outputs": [],
   "source": [
    "import numpy as np\n",
    "import tensorflow as tf\n",
    "import random\n",
    "import pickle\n",
    "from collections import Counter"
   ]
  },
  {
   "cell_type": "code",
   "execution_count": 2,
   "metadata": {
    "collapsed": false
   },
   "outputs": [
    {
     "data": {
      "text/plain": [
       "'\\n词形还原（lemmatizer），即吧一个任何形式的英语单词还原到一般形式，与词根还原不同（stemmer），后者是抽取一个单词的词根。\\n'"
      ]
     },
     "execution_count": 2,
     "metadata": {},
     "output_type": "execute_result"
    }
   ],
   "source": [
    "import nltk\n",
    "from nltk.tokenize import word_tokenize\n",
    "\"\"\"\n",
    "'I'm super man'\n",
    "tokenize:\n",
    "['I', ''m', 'super', 'man']\n",
    "\"\"\"\n",
    "from nltk.stem import WordNetLemmatizer\n",
    "\"\"\"\n",
    "词形还原（lemmatizer），即吧一个任何形式的英语单词还原到一般形式，与词根还原不同（stemmer），后者是抽取一个单词的词根。\n",
    "\"\"\""
   ]
  },
  {
   "cell_type": "code",
   "execution_count": 3,
   "metadata": {
    "collapsed": true
   },
   "outputs": [],
   "source": [
    "pos_file = 'pos.txt'\n",
    "neg_file = 'neg.txt'"
   ]
  },
  {
   "cell_type": "code",
   "execution_count": 4,
   "metadata": {
    "collapsed": false
   },
   "outputs": [],
   "source": [
    "import requests\n",
    "import os\n",
    "\n",
    "# 自己增加的函数，用于下载电影评论数据\n",
    "def downloadDatasets():\n",
    "    pos_url = 'http://blog.topspeedsnail.com/wp-content/uploads/2016/11/pos.txt'\n",
    "    neg_url = 'http://blog.topspeedsnail.com/wp-content/uploads/2016/11/neg.txt'\n",
    "    \n",
    "    if not os.path.exists(pos_file):\n",
    "        r = requests.get(pos_url) \n",
    "        with open(pos_file, 'wb') as f1:\n",
    "             f1.write(r.content)\n",
    "    \n",
    "    if not os.path.exists(neg_file):\n",
    "        r = requests.get(neg_url)\n",
    "        with open(neg_file, 'wb') as f2:\n",
    "            f2.write(r.content)\n",
    "            \n",
    "downloadDatasets()"
   ]
  },
  {
   "cell_type": "code",
   "execution_count": 5,
   "metadata": {
    "collapsed": false
   },
   "outputs": [],
   "source": [
    "# 创建词汇表\n",
    "def create_lexicon(pos_file, neg_file):\n",
    "    lex = []\n",
    "    # 读取文件\n",
    "    def process_file(f):\n",
    "        with open(pos_file, 'r') as f:\n",
    "            lex = []\n",
    "            lines = f.readlines()\n",
    "            #print(lines)\n",
    "            for line in lines:\n",
    "                words = word_tokenize(line.lower())\n",
    "                lex += words\n",
    "            return lex\n",
    "    \n",
    "    lex += process_file(pos_file)\n",
    "    lex += process_file(neg_file)\n",
    "    #print(len(lex))\n",
    "    lemmatizer = WordNetLemmatizer()\n",
    "    lex = [lemmatizer.lemmatize(word) for word in lex] # 词形还原 (cats->cat)\n",
    "    \n",
    "    word_count = Counter(lex)\n",
    "    #print(word_count)\n",
    "    # {'.': 13944, ',': 10536, 'the': 10120, 'a': 9444, 'and': 7108, 'of': 6624, 'it': 4748, 'to': 3940......}\n",
    "    # 去掉一些常用词,像the,a and等等，和一些不常用词; 这些词对判断一个评论是正面还是负面没有做任何贡献\n",
    "    lex = []\n",
    "    for word in word_count:\n",
    "        if word_count[word] < 2000 and word_count[word] > 20: # 这写死了，好像能用百分比\n",
    "            lex.append(word) # 齐普夫定律-使用Python验证文本的Zipf分布 http://blog.topspeedsnail.com/archives/9546\n",
    "    return lex\n",
    "\n",
    "lex = create_lexicon(pos_file, neg_file)\n",
    "#lex里保存了文本中出现过的单词"
   ]
  },
  {
   "cell_type": "code",
   "execution_count": 6,
   "metadata": {
    "collapsed": false
   },
   "outputs": [
    {
     "data": {
      "text/plain": [
       "\"\\n#把整理好的数据保存到文件，方便使用。到此完成了数据的整理工作\\nwith open('save.pickle', 'wb') as f:\\n    pickle.dump(dataset, f)\\n\""
      ]
     },
     "execution_count": 6,
     "metadata": {},
     "output_type": "execute_result"
    }
   ],
   "source": [
    "# 把每条评论转换为向量, 转换原理：\n",
    "# 假设lex为['woman', 'great', 'feel', 'actually', 'looking', 'latest', 'seen', 'is'] 当然实际上要大的多\n",
    "# 评论'i think this movie is great' 转换为 [0,1,0,0,0,0,0,1], 把评论中出现的字在lex中标记，出现过的标记为1，其余标记为0\n",
    "def normalize_dataset(lex):\n",
    "    dataset = []\n",
    "    # lex:词汇表；review:评论；clf:评论对应的分类，[0,1]代表负面评论 [1,0]代表正面评论 \n",
    "    def string_to_vector(lex, review, clf):\n",
    "        words = word_tokenize(review.lower())\n",
    "        lemmatizer = WordNetLemmatizer()\n",
    "        words = [lemmatizer.lemmatize(word) for word in words]\n",
    "        \n",
    "        features = np.zeros(len(lex))\n",
    "        for word in words:\n",
    "            if word in lex:\n",
    "                features[lex.index(word)] = 1 # 一个句子中某个词可能出现两次,可以用+=1，其实区别不大\n",
    "        return [features, clf]\n",
    "    \n",
    "    with open(pos_file, 'r') as f:\n",
    "        lines = f.readlines()\n",
    "        for line in lines:\n",
    "            one_sample = string_to_vector(lex, line, [1, 0]) # [array([ 0.,  1.,  0., ...,  0.,  0.,  0.]), [1,0]]\n",
    "            dataset.append(one_sample)\n",
    "    with open(neg_file, 'r') as f:\n",
    "        lines = f.readlines()\n",
    "        for line in lines:\n",
    "            one_sample = string_to_vector(lex, line, [0, 1])# [array([ 0.,  0.,  0., ...,  0.,  0.,  0.]), [0,1]]]\n",
    "            dataset.append(one_sample)\n",
    "    \n",
    "    #print(len(dataset))\n",
    "    return dataset\n",
    "\n",
    "dataset = normalize_dataset(lex)\n",
    "random.shuffle(dataset)\n",
    "\"\"\"\n",
    "#把整理好的数据保存到文件，方便使用。到此完成了数据的整理工作\n",
    "with open('save.pickle', 'wb') as f:\n",
    "    pickle.dump(dataset, f)\n",
    "\"\"\""
   ]
  },
  {
   "cell_type": "code",
   "execution_count": 7,
   "metadata": {
    "collapsed": true
   },
   "outputs": [],
   "source": [
    "# 取样本中的10%做为测试数据\n",
    "test_size = int(len(dataset) * 0.1)\n",
    " \n",
    "dataset = np.array(dataset)\n",
    " \n",
    "train_dataset = dataset[:-test_size]\n",
    "test_dataset = dataset[-test_size:]"
   ]
  },
  {
   "cell_type": "code",
   "execution_count": 8,
   "metadata": {
    "collapsed": true
   },
   "outputs": [],
   "source": [
    "# Feed-Forward Neural Network\n",
    "# 定义每个层有多少'神经元''\n",
    "n_input_layer = len(lex)  # 输入层\n",
    " \n",
    "n_layer_1 = 1000    # hide layer\n",
    "n_layer_2 = 1000    # hide layer(隐藏层)听着很神秘，其实就是除输入输出层外的中间层\n",
    " \n",
    "n_output_layer = 2       # 输出层"
   ]
  },
  {
   "cell_type": "code",
   "execution_count": 9,
   "metadata": {
    "collapsed": true
   },
   "outputs": [],
   "source": [
    "# 定义待训练的神经网络\n",
    "def neural_network(data):\n",
    "    # 定义第一层\"神经元\"的权重和biases\n",
    "    layer_1_w_b = {'w_':tf.Variable(tf.random_normal([n_input_layer, n_layer_1])), 'b_':tf.Variable(tf.random_normal([n_layer_1]))}\n",
    "    # 定义第二层\"神经元\"的权重和biases\n",
    "    layer_2_w_b = {'w_':tf.Variable(tf.random_normal([n_layer_1, n_layer_2])), 'b_':tf.Variable(tf.random_normal([n_layer_2]))}\n",
    "    # 定义输出层\"神经元\"的权重和biases\n",
    "    layer_output_w_b = {'w_':tf.Variable(tf.random_normal([n_layer_2, n_output_layer])), 'b_':tf.Variable(tf.random_normal([n_output_layer]))}\n",
    " \n",
    "    # w·x+b\n",
    "    layer_1 = tf.add(tf.matmul(data, layer_1_w_b['w_']), layer_1_w_b['b_'])\n",
    "    layer_1 = tf.nn.relu(layer_1)  # 激活函数\n",
    "    layer_2 = tf.add(tf.matmul(layer_1, layer_2_w_b['w_']), layer_2_w_b['b_'])\n",
    "    layer_2 = tf.nn.relu(layer_2 ) # 激活函数\n",
    "    layer_output = tf.add(tf.matmul(layer_2, layer_output_w_b['w_']), layer_output_w_b['b_'])\n",
    " \n",
    "    return layer_output"
   ]
  },
  {
   "cell_type": "code",
   "execution_count": 10,
   "metadata": {
    "collapsed": true
   },
   "outputs": [],
   "source": [
    "# 每次使用50条数据进行训练\n",
    "batch_size = 50\n",
    " \n",
    "X = tf.placeholder('float', [None, len(train_dataset[0][0])]) \n",
    "#[None, len(train_x)]代表数据数据的高和宽（矩阵），好处是如果数据不符合宽高，tensorflow会报错，不指定也可以。\n",
    "Y = tf.placeholder('float')"
   ]
  },
  {
   "cell_type": "code",
   "execution_count": 11,
   "metadata": {
    "collapsed": false
   },
   "outputs": [
    {
     "name": "stdout",
     "output_type": "stream",
     "text": [
      "0  :  57634.2538719\n",
      "1  :  13658.3789692\n",
      "2  :  4544.87077105\n",
      "3  :  2133.17797703\n",
      "4  :  1416.96244439\n",
      "5  :  1727.07437874\n",
      "6  :  1527.14899244\n",
      "7  :  1519.56586347\n",
      "8  :  1003.24597735\n",
      "9  :  384.214560793\n",
      "10  :  150.312888964\n",
      "11  :  155.894138557\n",
      "12  :  107.669200713\n",
      "准确率:  0.613508\n"
     ]
    }
   ],
   "source": [
    "# 使用数据训练神经网络\n",
    "def train_neural_network(X, Y):\n",
    "    predict = neural_network(X)\n",
    "    cost_func = tf.reduce_mean(tf.nn.softmax_cross_entropy_with_logits(logits=predict, labels=Y))\n",
    "    optimizer = tf.train.AdamOptimizer().minimize(cost_func)  # learning rate 默认 0.001 \n",
    " \n",
    "    epochs = 13\n",
    "    with tf.Session() as session:\n",
    "        session.run(tf.global_variables_initializer())\n",
    "\n",
    "        random.shuffle(train_dataset)\n",
    "        train_x = train_dataset[:, 0]\n",
    "        train_y = train_dataset[:, 1]\n",
    "        for epoch in range(epochs):\n",
    "            i = 0\n",
    "            epoch_loss = 0\n",
    "            while i < len(train_x):\n",
    "                start = i\n",
    "                end = i + batch_size\n",
    "\n",
    "                batch_x = train_x[start:end]\n",
    "                batch_y = train_y[start:end]\n",
    " \n",
    "                _, c = session.run([optimizer, cost_func], feed_dict={X:list(batch_x),Y:list(batch_y)})\n",
    "                epoch_loss += c\n",
    "                i += batch_size\n",
    "\n",
    "            print(epoch, ' : ', epoch_loss)\n",
    " \n",
    "        text_x = test_dataset[: ,0]\n",
    "        text_y = test_dataset[:, 1]\n",
    "        correct = tf.equal(tf.argmax(predict,1), tf.argmax(Y,1))\n",
    "        accuracy = tf.reduce_mean(tf.cast(correct,'float'))\n",
    "        print('准确率: ', accuracy.eval({X:list(text_x) , Y:list(text_y)}))\n",
    "\n",
    "train_neural_network(X,Y)"
   ]
  }
 ],
 "metadata": {
  "kernelspec": {
   "display_name": "Python 3",
   "language": "python",
   "name": "python3"
  },
  "language_info": {
   "codemirror_mode": {
    "name": "ipython",
    "version": 3
   },
   "file_extension": ".py",
   "mimetype": "text/x-python",
   "name": "python",
   "nbconvert_exporter": "python",
   "pygments_lexer": "ipython3",
   "version": "3.5.2"
  }
 },
 "nbformat": 4,
 "nbformat_minor": 2
}
