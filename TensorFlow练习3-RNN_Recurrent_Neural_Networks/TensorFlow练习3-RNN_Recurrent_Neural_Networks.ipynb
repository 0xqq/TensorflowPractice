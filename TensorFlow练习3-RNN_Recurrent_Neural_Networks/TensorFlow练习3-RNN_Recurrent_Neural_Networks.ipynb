{
 "cells": [
  {
   "cell_type": "code",
   "execution_count": 1,
   "metadata": {
    "collapsed": true
   },
   "outputs": [],
   "source": [
    "import tensorflow as tf\n",
    "import numpy as np"
   ]
  },
  {
   "cell_type": "code",
   "execution_count": 2,
   "metadata": {
    "collapsed": false
   },
   "outputs": [
    {
     "name": "stdout",
     "output_type": "stream",
     "text": [
      "Successfully downloaded train-images-idx3-ubyte.gz 9912422 bytes.\n",
      "Extracting /tmp/train-images-idx3-ubyte.gz\n",
      "Successfully downloaded train-labels-idx1-ubyte.gz 28881 bytes.\n",
      "Extracting /tmp/train-labels-idx1-ubyte.gz\n",
      "Successfully downloaded t10k-images-idx3-ubyte.gz 1648877 bytes.\n",
      "Extracting /tmp/t10k-images-idx3-ubyte.gz\n",
      "Successfully downloaded t10k-labels-idx1-ubyte.gz 4542 bytes.\n",
      "Extracting /tmp/t10k-labels-idx1-ubyte.gz\n"
     ]
    }
   ],
   "source": [
    "# 下载 mnist 数据集\n",
    "from tensorflow.examples.tutorials.mnist import input_data\n",
    "mnist = input_data.read_data_sets('/tmp/', one_hot = True)"
   ]
  },
  {
   "cell_type": "code",
   "execution_count": 3,
   "metadata": {
    "collapsed": true
   },
   "outputs": [],
   "source": [
    "# 一张图片是28*28，FNN是一次性把数据输入到网络，RNN把它分成块\n",
    "chunk_size = 28\n",
    "chunk_n = 28\n",
    "\n",
    "rnn_size = 256\n",
    "\n",
    "n_output_layer = 10 # 输出层"
   ]
  },
  {
   "cell_type": "code",
   "execution_count": 4,
   "metadata": {
    "collapsed": true
   },
   "outputs": [],
   "source": [
    "X = tf.placeholder(tf.float32, [None, chunk_n, chunk_size])\n",
    "Y = tf.placeholder(tf.float32)"
   ]
  },
  {
   "cell_type": "code",
   "execution_count": 5,
   "metadata": {
    "collapsed": true
   },
   "outputs": [],
   "source": [
    "# 定义待训练的神经网络\n",
    "def recurrent_neural_network(data):\n",
    "    layer = {'w_':tf.Variable(tf.random_normal([rnn_size, n_output_layer])),\n",
    "             'b_':tf.Variable(tf.random_normal([n_output_layer]))}\n",
    "    \n",
    "    lstm_cell = tf.contrib.rnn.BasicLSTMCell(rnn_size)\n",
    "    \n",
    "    data = tf.transpose(data, [1, 0, 2])\n",
    "    data = tf.reshape(data, [-1, chunk_size])\n",
    "    data = tf.split(data, chunk_n, 0)\n",
    "    outputs, status = tf.contrib.rnn.static_rnn(lstm_cell, data, dtype=tf.float32)\n",
    "    \n",
    "    output = tf.add(tf.matmul(outputs[-1], layer['w_']), layer['b_'])\n",
    "    \n",
    "    return output"
   ]
  },
  {
   "cell_type": "code",
   "execution_count": 6,
   "metadata": {
    "collapsed": true
   },
   "outputs": [],
   "source": [
    "# 每次使用100调数据进行训练\n",
    "batch_size = 100"
   ]
  },
  {
   "cell_type": "code",
   "execution_count": 7,
   "metadata": {
    "collapsed": false
   },
   "outputs": [],
   "source": [
    "# 使用数据训练神经网络\n",
    "def train_neural_network(X, Y):\n",
    "    predict = recurrent_neural_network(X)\n",
    "    cost_func = tf.reduce_mean(tf.nn.softmax_cross_entropy_with_logits(logits=predict, labels=Y))\n",
    "    optimizer = tf.train.AdamOptimizer().minimize(cost_func)\n",
    "    \n",
    "    epochs = 13\n",
    "    with tf.Session() as session:\n",
    "        session.run(tf.global_variables_initializer())\n",
    "        epoch_loss = 0\n",
    "        for epoch in range(epochs):\n",
    "            for i in range(int(mnist.train.num_examples/batch_size)):\n",
    "                x, y = mnist.train.next_batch(batch_size)\n",
    "                x = x.reshape([batch_size, chunk_n, chunk_size])\n",
    "                _, c = session.run([optimizer, cost_func], feed_dict={X:x,Y:y})\n",
    "                epoch_loss += c\n",
    "            print(epoch, ' : ', epoch_loss)\n",
    "        \n",
    "        correct = tf.equal(tf.argmax(predict, 1), tf.argmax(Y, 1))\n",
    "        accuracy = tf.reduce_mean(tf.cast(correct, tf.float32))\n",
    "        print('准确率：', accuracy.eval({X:mnist.test.images.reshape(-1, chunk_n, chunk_size), Y:mnist.test.labels}))      "
   ]
  },
  {
   "cell_type": "code",
   "execution_count": 8,
   "metadata": {
    "collapsed": false
   },
   "outputs": [
    {
     "name": "stdout",
     "output_type": "stream",
     "text": [
      "0  :  213.436965328\n",
      "1  :  276.027752538\n",
      "2  :  319.73262157\n",
      "3  :  351.60771717\n",
      "4  :  378.999413016\n",
      "5  :  401.17733957\n",
      "6  :  420.653858631\n",
      "7  :  436.539304495\n",
      "8  :  451.461353502\n",
      "9  :  465.818975115\n",
      "10  :  478.182739554\n",
      "11  :  488.991980096\n",
      "12  :  499.705263065\n",
      "准确率： 0.9894\n"
     ]
    }
   ],
   "source": [
    "train_neural_network(X, Y)"
   ]
  }
 ],
 "metadata": {
  "kernelspec": {
   "display_name": "Python 3",
   "language": "python",
   "name": "python3"
  },
  "language_info": {
   "codemirror_mode": {
    "name": "ipython",
    "version": 3
   },
   "file_extension": ".py",
   "mimetype": "text/x-python",
   "name": "python",
   "nbconvert_exporter": "python",
   "pygments_lexer": "ipython3",
   "version": "3.5.2"
  }
 },
 "nbformat": 4,
 "nbformat_minor": 2
}
