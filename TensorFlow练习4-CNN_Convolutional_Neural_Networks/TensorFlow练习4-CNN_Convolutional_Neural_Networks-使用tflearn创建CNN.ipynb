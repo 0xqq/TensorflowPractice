{
 "cells": [
  {
   "cell_type": "code",
   "execution_count": 1,
   "metadata": {
    "collapsed": false
   },
   "outputs": [],
   "source": [
    "import tflearn\n",
    "from tflearn.layers.conv import conv_2d, max_pool_2d\n",
    "from tflearn.layers.core import input_data, dropout, fully_connected\n",
    "from tflearn.layers.estimator import regression"
   ]
  },
  {
   "cell_type": "code",
   "execution_count": 2,
   "metadata": {
    "collapsed": false
   },
   "outputs": [
    {
     "name": "stdout",
     "output_type": "stream",
     "text": [
      "Extracting mnist/train-images-idx3-ubyte.gz\n",
      "Extracting mnist/train-labels-idx1-ubyte.gz\n",
      "Extracting mnist/t10k-images-idx3-ubyte.gz\n",
      "Extracting mnist/t10k-labels-idx1-ubyte.gz\n"
     ]
    }
   ],
   "source": [
    "train_x, train_y, test_x, test_y = tflearn.datasets.mnist.load_data(one_hot=True)\n",
    "\n",
    "train_x = train_x.reshape(-1, 28, 28, 1)\n",
    "test_x = test_x.reshape(-1, 28, 28, 1)"
   ]
  },
  {
   "cell_type": "code",
   "execution_count": 3,
   "metadata": {
    "collapsed": true
   },
   "outputs": [],
   "source": [
    "# 定义神经网络模型\n",
    "conv_net = input_data(shape=[None, 28, 28, 1], name='input')\n",
    "conv_net = conv_2d(conv_net, 32, 2, activation='relu')\n",
    "conv_net = max_pool_2d(conv_net, 2)\n",
    "conv_net = conv_2d(conv_net, 64, 2, activation='relu')\n",
    "conv_net = max_pool_2d(conv_net, 2)\n",
    "conv_net = fully_connected(conv_net, 1024, activation='relu')\n",
    "conv_net = dropout(conv_net, 0.8)\n",
    "conv_net = fully_connected(conv_net, 10, activation='softmax')\n",
    "conv_net = regression(conv_net, optimizer='adam', loss='categorical_crossentropy', name='output')"
   ]
  },
  {
   "cell_type": "code",
   "execution_count": 4,
   "metadata": {
    "collapsed": true
   },
   "outputs": [],
   "source": [
    "model = tflearn.DNN(conv_net)"
   ]
  },
  {
   "cell_type": "code",
   "execution_count": 5,
   "metadata": {
    "collapsed": false
   },
   "outputs": [
    {
     "name": "stdout",
     "output_type": "stream",
     "text": [
      "Training Step: 11179  | total loss: \u001b[1m\u001b[32m0.29587\u001b[0m\u001b[0m | time: 46.621s\n",
      "| Adam | epoch: 013 | loss: 0.29587 - acc: 0.9804 -- iter: 54976/55000\n",
      "Training Step: 11180  | total loss: \u001b[1m\u001b[32m0.26894\u001b[0m\u001b[0m | time: 48.770s\n",
      "| Adam | epoch: 013 | loss: 0.26894 - acc: 0.9808 | val_loss: 0.05148 - val_acc: 0.9839 -- iter: 55000/55000\n",
      "--\n"
     ]
    }
   ],
   "source": [
    "# 训练\n",
    "model.fit({'input':train_x}, {'output':train_y}, n_epoch=13,\n",
    "         validation_set=({'input':test_x},{'output':test_y}),\n",
    "         snapshot_step=300, show_metric=True, run_id='mnist')"
   ]
  },
  {
   "cell_type": "code",
   "execution_count": 6,
   "metadata": {
    "collapsed": false
   },
   "outputs": [
    {
     "name": "stdout",
     "output_type": "stream",
     "text": [
      "INFO:tensorflow:/home/meiming/workplace/github/TensorflowPractice/TensorFlow练习4:-CNN_Convolutional_Neural_Networks/mnist.model is not in all_model_checkpoint_paths. Manually adding it.\n"
     ]
    }
   ],
   "source": [
    "model.save('mnist.model') # 保存模型"
   ]
  },
  {
   "cell_type": "code",
   "execution_count": 8,
   "metadata": {
    "collapsed": false
   },
   "outputs": [
    {
     "data": {
      "text/plain": [
       "\"\\nmodel.load('mnist.model') # 加载模型\\nmodel.predict([test_x[1]])# 预测\\n\""
      ]
     },
     "execution_count": 7,
     "metadata": {},
     "output_type": "execute_result"
    }
   ],
   "source": [
    "'''\n",
    "model.load('mnist.model') # 加载模型\n",
    "model.predict([test_x[1]])# 预测\n",
    "'''"
   ]
  }
 ],
 "metadata": {
  "kernelspec": {
   "display_name": "Python 3",
   "language": "python",
   "name": "python3"
  },
  "language_info": {
   "codemirror_mode": {
    "name": "ipython",
    "version": 3
   },
   "file_extension": ".py",
   "mimetype": "text/x-python",
   "name": "python",
   "nbconvert_exporter": "python",
   "pygments_lexer": "ipython3",
   "version": "3.5.2"
  }
 },
 "nbformat": 4,
 "nbformat_minor": 2
}
